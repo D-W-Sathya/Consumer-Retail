{
 "cells": [
  {
   "cell_type": "markdown",
   "id": "470c5694",
   "metadata": {},
   "source": [
    "#### RFM Analysis\n",
    "\n",
    "- Here the dataset contains a customer transaction data.\n",
    "- We use columns transaction_id, transaction_date, and list_price to calculate frequency, recency, and monetary value. "
   ]
  },
  {
   "cell_type": "code",
   "execution_count": 2,
   "id": "f6adfa96",
   "metadata": {},
   "outputs": [],
   "source": [
    "import pandas as pd\n",
    "import numpy as np"
   ]
  },
  {
   "cell_type": "code",
   "execution_count": 3,
   "id": "e4df94fc",
   "metadata": {},
   "outputs": [],
   "source": [
    "df = pd.read_excel('KPMG_VI_New_raw_data_update_final.xlsx',sheet_name=\"Transactions\")"
   ]
  },
  {
   "cell_type": "code",
   "execution_count": 4,
   "id": "af8d5867",
   "metadata": {},
   "outputs": [
    {
     "data": {
      "text/plain": [
       "(20000, 26)"
      ]
     },
     "execution_count": 4,
     "metadata": {},
     "output_type": "execute_result"
    }
   ],
   "source": [
    "df.shape"
   ]
  },
  {
   "cell_type": "code",
   "execution_count": 7,
   "id": "277ff599",
   "metadata": {},
   "outputs": [],
   "source": [
    "# We use only the named columns\n",
    "df = df.iloc[:,0:13]"
   ]
  },
  {
   "cell_type": "code",
   "execution_count": 8,
   "id": "b1be37a1",
   "metadata": {},
   "outputs": [
    {
     "data": {
      "text/html": [
       "<div>\n",
       "<style scoped>\n",
       "    .dataframe tbody tr th:only-of-type {\n",
       "        vertical-align: middle;\n",
       "    }\n",
       "\n",
       "    .dataframe tbody tr th {\n",
       "        vertical-align: top;\n",
       "    }\n",
       "\n",
       "    .dataframe thead th {\n",
       "        text-align: right;\n",
       "    }\n",
       "</style>\n",
       "<table border=\"1\" class=\"dataframe\">\n",
       "  <thead>\n",
       "    <tr style=\"text-align: right;\">\n",
       "      <th></th>\n",
       "      <th>transaction_id</th>\n",
       "      <th>product_id</th>\n",
       "      <th>customer_id</th>\n",
       "      <th>transaction_date</th>\n",
       "      <th>online_order</th>\n",
       "      <th>order_status</th>\n",
       "      <th>brand</th>\n",
       "      <th>product_line</th>\n",
       "      <th>product_class</th>\n",
       "      <th>product_size</th>\n",
       "      <th>list_price</th>\n",
       "      <th>standard_cost</th>\n",
       "      <th>product_first_sold_date</th>\n",
       "    </tr>\n",
       "  </thead>\n",
       "  <tbody>\n",
       "    <tr>\n",
       "      <th>0</th>\n",
       "      <td>17135</td>\n",
       "      <td>49</td>\n",
       "      <td>17</td>\n",
       "      <td>2017-12-30</td>\n",
       "      <td>0.0</td>\n",
       "      <td>Approved</td>\n",
       "      <td>Trek Bicycles</td>\n",
       "      <td>Road</td>\n",
       "      <td>medium</td>\n",
       "      <td>medium</td>\n",
       "      <td>533.51</td>\n",
       "      <td>400.13</td>\n",
       "      <td>1997-10-04</td>\n",
       "    </tr>\n",
       "    <tr>\n",
       "      <th>1</th>\n",
       "      <td>9158</td>\n",
       "      <td>88</td>\n",
       "      <td>86</td>\n",
       "      <td>2017-12-30</td>\n",
       "      <td>1.0</td>\n",
       "      <td>Approved</td>\n",
       "      <td>Norco Bicycles</td>\n",
       "      <td>Standard</td>\n",
       "      <td>high</td>\n",
       "      <td>small</td>\n",
       "      <td>1661.92</td>\n",
       "      <td>1479.11</td>\n",
       "      <td>1993-07-15</td>\n",
       "    </tr>\n",
       "    <tr>\n",
       "      <th>2</th>\n",
       "      <td>12453</td>\n",
       "      <td>12</td>\n",
       "      <td>151</td>\n",
       "      <td>2017-12-30</td>\n",
       "      <td>0.0</td>\n",
       "      <td>Approved</td>\n",
       "      <td>WeareA2B</td>\n",
       "      <td>Standard</td>\n",
       "      <td>medium</td>\n",
       "      <td>medium</td>\n",
       "      <td>1231.15</td>\n",
       "      <td>161.60</td>\n",
       "      <td>2010-11-05</td>\n",
       "    </tr>\n",
       "    <tr>\n",
       "      <th>3</th>\n",
       "      <td>15270</td>\n",
       "      <td>3</td>\n",
       "      <td>195</td>\n",
       "      <td>2017-12-30</td>\n",
       "      <td>0.0</td>\n",
       "      <td>Approved</td>\n",
       "      <td>Trek Bicycles</td>\n",
       "      <td>Standard</td>\n",
       "      <td>medium</td>\n",
       "      <td>large</td>\n",
       "      <td>2091.47</td>\n",
       "      <td>388.92</td>\n",
       "      <td>2012-09-15</td>\n",
       "    </tr>\n",
       "    <tr>\n",
       "      <th>4</th>\n",
       "      <td>16759</td>\n",
       "      <td>27</td>\n",
       "      <td>256</td>\n",
       "      <td>2017-12-30</td>\n",
       "      <td>0.0</td>\n",
       "      <td>Approved</td>\n",
       "      <td>Trek Bicycles</td>\n",
       "      <td>Standard</td>\n",
       "      <td>low</td>\n",
       "      <td>medium</td>\n",
       "      <td>1057.51</td>\n",
       "      <td>154.40</td>\n",
       "      <td>2010-06-07</td>\n",
       "    </tr>\n",
       "  </tbody>\n",
       "</table>\n",
       "</div>"
      ],
      "text/plain": [
       "   transaction_id  product_id  customer_id transaction_date  online_order  \\\n",
       "0           17135          49           17       2017-12-30           0.0   \n",
       "1            9158          88           86       2017-12-30           1.0   \n",
       "2           12453          12          151       2017-12-30           0.0   \n",
       "3           15270           3          195       2017-12-30           0.0   \n",
       "4           16759          27          256       2017-12-30           0.0   \n",
       "\n",
       "  order_status           brand product_line product_class product_size  \\\n",
       "0     Approved   Trek Bicycles         Road        medium       medium   \n",
       "1     Approved  Norco Bicycles     Standard          high        small   \n",
       "2     Approved        WeareA2B     Standard        medium       medium   \n",
       "3     Approved   Trek Bicycles     Standard        medium        large   \n",
       "4     Approved   Trek Bicycles     Standard           low       medium   \n",
       "\n",
       "   list_price  standard_cost product_first_sold_date  \n",
       "0      533.51         400.13              1997-10-04  \n",
       "1     1661.92        1479.11              1993-07-15  \n",
       "2     1231.15         161.60              2010-11-05  \n",
       "3     2091.47         388.92              2012-09-15  \n",
       "4     1057.51         154.40              2010-06-07  "
      ]
     },
     "execution_count": 8,
     "metadata": {},
     "output_type": "execute_result"
    }
   ],
   "source": [
    "df.head(5)"
   ]
  },
  {
   "cell_type": "code",
   "execution_count": 9,
   "id": "fd114171",
   "metadata": {},
   "outputs": [],
   "source": [
    "df1 = df[df.order_status == 'Approved']\n",
    "# For Analysis We take only those data where the order is approved"
   ]
  },
  {
   "cell_type": "code",
   "execution_count": 10,
   "id": "b56affe9",
   "metadata": {},
   "outputs": [
    {
     "data": {
      "text/plain": [
       "(19821, 13)"
      ]
     },
     "execution_count": 10,
     "metadata": {},
     "output_type": "execute_result"
    }
   ],
   "source": [
    "df1.shape"
   ]
  },
  {
   "cell_type": "markdown",
   "id": "cc23f8a7",
   "metadata": {},
   "source": [
    "#### Grouping by customer id\n",
    "- The count of transaction_id gives the no. of times the customer made a purchase: frequency\n",
    "- The latest transaction date gives info on recency. \n",
    "- The sum of list_price gives the money spent by the customer: monetary value."
   ]
  },
  {
   "cell_type": "code",
   "execution_count": 12,
   "id": "d43e8c53",
   "metadata": {},
   "outputs": [],
   "source": [
    "df2 = df1.groupby('customer_id').agg({'transaction_id':'count','transaction_date':'max','list_price':'sum'})"
   ]
  },
  {
   "cell_type": "code",
   "execution_count": 13,
   "id": "5cc6ab04",
   "metadata": {},
   "outputs": [],
   "source": [
    "# renaming columns\n",
    "df2.rename(columns={'transaction_id':'transactions_count','transaction_date':'last_transaction_date'},\n",
    "           inplace=True)"
   ]
  },
  {
   "cell_type": "code",
   "execution_count": 14,
   "id": "a8da9a54",
   "metadata": {},
   "outputs": [],
   "source": [
    "# renaming columns\n",
    "df2.rename(columns={'list_price':'Total_Amount'},inplace=True)"
   ]
  },
  {
   "cell_type": "code",
   "execution_count": 17,
   "id": "e7b60c42",
   "metadata": {},
   "outputs": [
    {
     "data": {
      "text/html": [
       "<div>\n",
       "<style scoped>\n",
       "    .dataframe tbody tr th:only-of-type {\n",
       "        vertical-align: middle;\n",
       "    }\n",
       "\n",
       "    .dataframe tbody tr th {\n",
       "        vertical-align: top;\n",
       "    }\n",
       "\n",
       "    .dataframe thead th {\n",
       "        text-align: right;\n",
       "    }\n",
       "</style>\n",
       "<table border=\"1\" class=\"dataframe\">\n",
       "  <thead>\n",
       "    <tr style=\"text-align: right;\">\n",
       "      <th></th>\n",
       "      <th>transactions_count</th>\n",
       "      <th>last_transaction_date</th>\n",
       "      <th>Total_Amount</th>\n",
       "    </tr>\n",
       "    <tr>\n",
       "      <th>customer_id</th>\n",
       "      <th></th>\n",
       "      <th></th>\n",
       "      <th></th>\n",
       "    </tr>\n",
       "  </thead>\n",
       "  <tbody>\n",
       "    <tr>\n",
       "      <th>3</th>\n",
       "      <td>8</td>\n",
       "      <td>2017-09-19</td>\n",
       "      <td>9888.23</td>\n",
       "    </tr>\n",
       "    <tr>\n",
       "      <th>1</th>\n",
       "      <td>11</td>\n",
       "      <td>2017-12-23</td>\n",
       "      <td>9084.45</td>\n",
       "    </tr>\n",
       "    <tr>\n",
       "      <th>5</th>\n",
       "      <td>6</td>\n",
       "      <td>2017-12-14</td>\n",
       "      <td>5903.20</td>\n",
       "    </tr>\n",
       "    <tr>\n",
       "      <th>2</th>\n",
       "      <td>3</td>\n",
       "      <td>2017-08-24</td>\n",
       "      <td>4149.07</td>\n",
       "    </tr>\n",
       "    <tr>\n",
       "      <th>4</th>\n",
       "      <td>2</td>\n",
       "      <td>2017-06-18</td>\n",
       "      <td>1047.72</td>\n",
       "    </tr>\n",
       "  </tbody>\n",
       "</table>\n",
       "</div>"
      ],
      "text/plain": [
       "             transactions_count last_transaction_date  Total_Amount\n",
       "customer_id                                                        \n",
       "3                             8            2017-09-19       9888.23\n",
       "1                            11            2017-12-23       9084.45\n",
       "5                             6            2017-12-14       5903.20\n",
       "2                             3            2017-08-24       4149.07\n",
       "4                             2            2017-06-18       1047.72"
      ]
     },
     "execution_count": 17,
     "metadata": {},
     "output_type": "execute_result"
    }
   ],
   "source": [
    "# Data for RFM Analysis , df2 is the table to get the RFM values\n",
    "df2.head().sort_values(by='Total_Amount', ascending=False)\n"
   ]
  },
  {
   "cell_type": "markdown",
   "id": "b87c88b9",
   "metadata": {},
   "source": [
    "#### RFM Using Excel Method\n",
    "- Used Datedif function to calculate the no of days since last order, used 2018-01-01 as the reference point\n",
    "- Used PERCENTRANK.EXC to find the percentile value for each record of R, F & M."
   ]
  },
  {
   "cell_type": "code",
   "execution_count": 43,
   "id": "bc3daba7",
   "metadata": {},
   "outputs": [
    {
     "data": {
      "text/plain": [
       "(3493, 4)"
      ]
     },
     "execution_count": 43,
     "metadata": {},
     "output_type": "execute_result"
    }
   ],
   "source": [
    "df2.shape"
   ]
  },
  {
   "cell_type": "code",
   "execution_count": 39,
   "id": "29e5d6f0",
   "metadata": {},
   "outputs": [],
   "source": [
    "# exporting to excel for RFM Analysis\n",
    "df2.to_excel('RFM_data.xlsx')  \n"
   ]
  },
  {
   "cell_type": "code",
   "execution_count": 26,
   "id": "e6af8b83",
   "metadata": {},
   "outputs": [],
   "source": [
    "RFM_d = pd.read_excel(\"RFM_data.xlsx\",sheet_name=\"Customer_Segments\")"
   ]
  },
  {
   "cell_type": "code",
   "execution_count": 44,
   "id": "29a05d5b",
   "metadata": {},
   "outputs": [
    {
     "data": {
      "text/html": [
       "<div>\n",
       "<style scoped>\n",
       "    .dataframe tbody tr th:only-of-type {\n",
       "        vertical-align: middle;\n",
       "    }\n",
       "\n",
       "    .dataframe tbody tr th {\n",
       "        vertical-align: top;\n",
       "    }\n",
       "\n",
       "    .dataframe thead th {\n",
       "        text-align: right;\n",
       "    }\n",
       "</style>\n",
       "<table border=\"1\" class=\"dataframe\">\n",
       "  <thead>\n",
       "    <tr style=\"text-align: right;\">\n",
       "      <th></th>\n",
       "      <th>customer_id</th>\n",
       "      <th>R</th>\n",
       "      <th>F</th>\n",
       "      <th>M</th>\n",
       "    </tr>\n",
       "  </thead>\n",
       "  <tbody>\n",
       "    <tr>\n",
       "      <th>0</th>\n",
       "      <td>1</td>\n",
       "      <td>9</td>\n",
       "      <td>9</td>\n",
       "      <td>8</td>\n",
       "    </tr>\n",
       "    <tr>\n",
       "      <th>1</th>\n",
       "      <td>2</td>\n",
       "      <td>1</td>\n",
       "      <td>0</td>\n",
       "      <td>2</td>\n",
       "    </tr>\n",
       "    <tr>\n",
       "      <th>2</th>\n",
       "      <td>3</td>\n",
       "      <td>1</td>\n",
       "      <td>7</td>\n",
       "      <td>8</td>\n",
       "    </tr>\n",
       "    <tr>\n",
       "      <th>3</th>\n",
       "      <td>4</td>\n",
       "      <td>0</td>\n",
       "      <td>0</td>\n",
       "      <td>0</td>\n",
       "    </tr>\n",
       "    <tr>\n",
       "      <th>4</th>\n",
       "      <td>5</td>\n",
       "      <td>7</td>\n",
       "      <td>4</td>\n",
       "      <td>4</td>\n",
       "    </tr>\n",
       "  </tbody>\n",
       "</table>\n",
       "</div>"
      ],
      "text/plain": [
       "   customer_id  R  F  M\n",
       "0            1  9  9  8\n",
       "1            2  1  0  2\n",
       "2            3  1  7  8\n",
       "3            4  0  0  0\n",
       "4            5  7  4  4"
      ]
     },
     "execution_count": 44,
     "metadata": {},
     "output_type": "execute_result"
    }
   ],
   "source": [
    "RFM_d.head()"
   ]
  },
  {
   "cell_type": "code",
   "execution_count": 45,
   "id": "428ff45e",
   "metadata": {},
   "outputs": [
    {
     "name": "stdout",
     "output_type": "stream",
     "text": [
      "<class 'pandas.core.frame.DataFrame'>\n",
      "RangeIndex: 3493 entries, 0 to 3492\n",
      "Data columns (total 4 columns):\n",
      " #   Column       Non-Null Count  Dtype\n",
      "---  ------       --------------  -----\n",
      " 0   customer_id  3493 non-null   int64\n",
      " 1   R            3493 non-null   int64\n",
      " 2   F            3493 non-null   int64\n",
      " 3   M            3493 non-null   int64\n",
      "dtypes: int64(4)\n",
      "memory usage: 109.3 KB\n"
     ]
    }
   ],
   "source": [
    "RFM_d.info()"
   ]
  },
  {
   "cell_type": "code",
   "execution_count": 30,
   "id": "da22886a",
   "metadata": {},
   "outputs": [],
   "source": [
    "#  We check the distribution of recency, frequency , and monetary scores."
   ]
  },
  {
   "cell_type": "code",
   "execution_count": 29,
   "id": "3da08e90",
   "metadata": {},
   "outputs": [],
   "source": [
    "import seaborn as sns"
   ]
  },
  {
   "cell_type": "code",
   "execution_count": 31,
   "id": "f71837fc",
   "metadata": {},
   "outputs": [
    {
     "name": "stderr",
     "output_type": "stream",
     "text": [
      "C:\\Users\\ARAMMOHA\\anaconda3\\lib\\site-packages\\seaborn\\distributions.py:2557: FutureWarning: `distplot` is a deprecated function and will be removed in a future version. Please adapt your code to use either `displot` (a figure-level function with similar flexibility) or `histplot` (an axes-level function for histograms).\n",
      "  warnings.warn(msg, FutureWarning)\n"
     ]
    },
    {
     "data": {
      "text/plain": [
       "<AxesSubplot:xlabel='R', ylabel='Density'>"
      ]
     },
     "execution_count": 31,
     "metadata": {},
     "output_type": "execute_result"
    },
    {
     "data": {
      "image/png": "[encoded data removed]",
      "text/plain": [
       "<Figure size 432x288 with 1 Axes>"
      ]
     },
     "metadata": {
      "needs_background": "light"
     },
     "output_type": "display_data"
    }
   ],
   "source": [
    "sns.distplot(RFM_d.R)"
   ]
  },
  {
   "cell_type": "code",
   "execution_count": 32,
   "id": "58be5727",
   "metadata": {
    "scrolled": false
   },
   "outputs": [
    {
     "name": "stderr",
     "output_type": "stream",
     "text": [
      "C:\\Users\\ARAMMOHA\\anaconda3\\lib\\site-packages\\seaborn\\distributions.py:2557: FutureWarning: `distplot` is a deprecated function and will be removed in a future version. Please adapt your code to use either `displot` (a figure-level function with similar flexibility) or `histplot` (an axes-level function for histograms).\n",
      "  warnings.warn(msg, FutureWarning)\n"
     ]
    },
    {
     "data": {
      "text/plain": [
       "<AxesSubplot:xlabel='F', ylabel='Density'>"
      ]
     },
     "execution_count": 32,
     "metadata": {},
     "output_type": "execute_result"
    },
    {
     "data": {
      "image/png": "[encoded data removed]",
      "text/plain": [
       "<Figure size 432x288 with 1 Axes>"
      ]
     },
     "metadata": {
      "needs_background": "light"
     },
     "output_type": "display_data"
    }
   ],
   "source": [
    "sns.distplot(RFM_d.F)"
   ]
  },
  {
   "cell_type": "code",
   "execution_count": 33,
   "id": "15c29716",
   "metadata": {},
   "outputs": [
    {
     "name": "stderr",
     "output_type": "stream",
     "text": [
      "C:\\Users\\ARAMMOHA\\anaconda3\\lib\\site-packages\\seaborn\\distributions.py:2557: FutureWarning: `distplot` is a deprecated function and will be removed in a future version. Please adapt your code to use either `displot` (a figure-level function with similar flexibility) or `histplot` (an axes-level function for histograms).\n",
      "  warnings.warn(msg, FutureWarning)\n"
     ]
    },
    {
     "data": {
      "text/plain": [
       "<AxesSubplot:xlabel='M', ylabel='Density'>"
      ]
     },
     "execution_count": 33,
     "metadata": {},
     "output_type": "execute_result"
    },
    {
     "data": {
      "image/png": "[encoded data removed]",
      "text/plain": [
       "<Figure size 432x288 with 1 Axes>"
      ]
     },
     "metadata": {
      "needs_background": "light"
     },
     "output_type": "display_data"
    }
   ],
   "source": [
    "sns.distplot(RFM_d.M)"
   ]
  },
  {
   "cell_type": "markdown",
   "id": "ca640a91",
   "metadata": {},
   "source": [
    " #### Now we use K-Means Clustering Algorithm to segment the customers based on RFM Score"
   ]
  },
  {
   "cell_type": "code",
   "execution_count": 8,
   "id": "f7b0ddec",
   "metadata": {},
   "outputs": [],
   "source": [
    "from sklearn.cluster import KMeans"
   ]
  },
  {
   "cell_type": "code",
   "execution_count": 9,
   "id": "5cd06e17",
   "metadata": {},
   "outputs": [],
   "source": [
    "import matplotlib.pyplot as plt"
   ]
  },
  {
   "cell_type": "code",
   "execution_count": 10,
   "id": "61c12839",
   "metadata": {},
   "outputs": [
    {
     "data": {
      "text/html": [
       "<div>\n",
       "<style scoped>\n",
       "    .dataframe tbody tr th:only-of-type {\n",
       "        vertical-align: middle;\n",
       "    }\n",
       "\n",
       "    .dataframe tbody tr th {\n",
       "        vertical-align: top;\n",
       "    }\n",
       "\n",
       "    .dataframe thead th {\n",
       "        text-align: right;\n",
       "    }\n",
       "</style>\n",
       "<table border=\"1\" class=\"dataframe\">\n",
       "  <thead>\n",
       "    <tr style=\"text-align: right;\">\n",
       "      <th></th>\n",
       "      <th>R</th>\n",
       "      <th>F</th>\n",
       "      <th>M</th>\n",
       "    </tr>\n",
       "  </thead>\n",
       "  <tbody>\n",
       "    <tr>\n",
       "      <th>0</th>\n",
       "      <td>9</td>\n",
       "      <td>9</td>\n",
       "      <td>8</td>\n",
       "    </tr>\n",
       "    <tr>\n",
       "      <th>1</th>\n",
       "      <td>1</td>\n",
       "      <td>0</td>\n",
       "      <td>2</td>\n",
       "    </tr>\n",
       "    <tr>\n",
       "      <th>2</th>\n",
       "      <td>1</td>\n",
       "      <td>7</td>\n",
       "      <td>8</td>\n",
       "    </tr>\n",
       "    <tr>\n",
       "      <th>3</th>\n",
       "      <td>0</td>\n",
       "      <td>0</td>\n",
       "      <td>0</td>\n",
       "    </tr>\n",
       "    <tr>\n",
       "      <th>4</th>\n",
       "      <td>7</td>\n",
       "      <td>4</td>\n",
       "      <td>4</td>\n",
       "    </tr>\n",
       "    <tr>\n",
       "      <th>...</th>\n",
       "      <td>...</td>\n",
       "      <td>...</td>\n",
       "      <td>...</td>\n",
       "    </tr>\n",
       "    <tr>\n",
       "      <th>3488</th>\n",
       "      <td>4</td>\n",
       "      <td>0</td>\n",
       "      <td>1</td>\n",
       "    </tr>\n",
       "    <tr>\n",
       "      <th>3489</th>\n",
       "      <td>1</td>\n",
       "      <td>4</td>\n",
       "      <td>3</td>\n",
       "    </tr>\n",
       "    <tr>\n",
       "      <th>3490</th>\n",
       "      <td>4</td>\n",
       "      <td>6</td>\n",
       "      <td>7</td>\n",
       "    </tr>\n",
       "    <tr>\n",
       "      <th>3491</th>\n",
       "      <td>0</td>\n",
       "      <td>4</td>\n",
       "      <td>3</td>\n",
       "    </tr>\n",
       "    <tr>\n",
       "      <th>3492</th>\n",
       "      <td>2</td>\n",
       "      <td>0</td>\n",
       "      <td>0</td>\n",
       "    </tr>\n",
       "  </tbody>\n",
       "</table>\n",
       "<p>3493 rows × 3 columns</p>\n",
       "</div>"
      ],
      "text/plain": [
       "      R  F  M\n",
       "0     9  9  8\n",
       "1     1  0  2\n",
       "2     1  7  8\n",
       "3     0  0  0\n",
       "4     7  4  4\n",
       "...  .. .. ..\n",
       "3488  4  0  1\n",
       "3489  1  4  3\n",
       "3490  4  6  7\n",
       "3491  0  4  3\n",
       "3492  2  0  0\n",
       "\n",
       "[3493 rows x 3 columns]"
      ]
     },
     "execution_count": 10,
     "metadata": {},
     "output_type": "execute_result"
    }
   ],
   "source": [
    "RFM_d.iloc[:,1:]"
   ]
  },
  {
   "cell_type": "code",
   "execution_count": 11,
   "id": "bb790f40",
   "metadata": {},
   "outputs": [],
   "source": [
    "wcss = []\n",
    "\n",
    "for i in range(1,11):\n",
    "    km = KMeans(n_clusters=i)\n",
    "    km.fit_predict(RFM_d.iloc[:,1:])\n",
    "    wcss.append(km.inertia_)"
   ]
  },
  {
   "cell_type": "code",
   "execution_count": 12,
   "id": "0375f864",
   "metadata": {},
   "outputs": [
    {
     "data": {
      "text/plain": [
       "[86141.56999713753,\n",
       " 44623.766649580066,\n",
       " 31496.305627041573,\n",
       " 23335.53347429628,\n",
       " 19523.968439277654,\n",
       " 16133.23423554591,\n",
       " 14618.144707035643,\n",
       " 13370.913060982837,\n",
       " 12332.286669127738,\n",
       " 11482.72887655799]"
      ]
     },
     "execution_count": 12,
     "metadata": {},
     "output_type": "execute_result"
    }
   ],
   "source": [
    "wcss"
   ]
  },
  {
   "cell_type": "code",
   "execution_count": 13,
   "id": "ef330a37",
   "metadata": {},
   "outputs": [
    {
     "data": {
      "text/plain": [
       "[<matplotlib.lines.Line2D at 0x1e284826040>]"
      ]
     },
     "execution_count": 13,
     "metadata": {},
     "output_type": "execute_result"
    },
    {
     "data": {
      "image/png": "[encoded data removed]",
      "text/plain": [
       "<Figure size 432x288 with 1 Axes>"
      ]
     },
     "metadata": {
      "needs_background": "light"
     },
     "output_type": "display_data"
    }
   ],
   "source": [
    "# next we plot the elbow chart, with wcss in y axis, \n",
    "# and the no. of clusters (range value in previous) on x-axis\n",
    "\n",
    "plt.plot(range(1,11),wcss)"
   ]
  },
  {
   "cell_type": "markdown",
   "id": "83611f8b",
   "metadata": {},
   "source": [
    "##### From the elbow chart, we decide to have 5 clusters/Sements of customer_id"
   ]
  },
  {
   "cell_type": "code",
   "execution_count": 20,
   "id": "73b207f3",
   "metadata": {},
   "outputs": [],
   "source": [
    "kmeans=KMeans(n_clusters=5)\n",
    "kmeans.fit_predict(RFM_d.iloc[:,1:])\n",
    "RFM_d[\"Clusters\"]=(kmeans.labels_+1)\n"
   ]
  },
  {
   "cell_type": "code",
   "execution_count": 29,
   "id": "581196f3",
   "metadata": {},
   "outputs": [],
   "source": [
    "# You should use fit_predict both while making the elbow chart and while segmentation."
   ]
  },
  {
   "cell_type": "code",
   "execution_count": 21,
   "id": "e2f96ec1",
   "metadata": {},
   "outputs": [
    {
     "data": {
      "text/html": [
       "<div>\n",
       "<style scoped>\n",
       "    .dataframe tbody tr th:only-of-type {\n",
       "        vertical-align: middle;\n",
       "    }\n",
       "\n",
       "    .dataframe tbody tr th {\n",
       "        vertical-align: top;\n",
       "    }\n",
       "\n",
       "    .dataframe thead th {\n",
       "        text-align: right;\n",
       "    }\n",
       "</style>\n",
       "<table border=\"1\" class=\"dataframe\">\n",
       "  <thead>\n",
       "    <tr style=\"text-align: right;\">\n",
       "      <th></th>\n",
       "      <th>customer_id</th>\n",
       "      <th>R</th>\n",
       "      <th>F</th>\n",
       "      <th>M</th>\n",
       "      <th>Clusters</th>\n",
       "    </tr>\n",
       "  </thead>\n",
       "  <tbody>\n",
       "    <tr>\n",
       "      <th>0</th>\n",
       "      <td>1</td>\n",
       "      <td>9</td>\n",
       "      <td>9</td>\n",
       "      <td>8</td>\n",
       "      <td>5</td>\n",
       "    </tr>\n",
       "    <tr>\n",
       "      <th>4</th>\n",
       "      <td>5</td>\n",
       "      <td>7</td>\n",
       "      <td>4</td>\n",
       "      <td>4</td>\n",
       "      <td>4</td>\n",
       "    </tr>\n",
       "    <tr>\n",
       "      <th>2</th>\n",
       "      <td>3</td>\n",
       "      <td>1</td>\n",
       "      <td>7</td>\n",
       "      <td>8</td>\n",
       "      <td>2</td>\n",
       "    </tr>\n",
       "    <tr>\n",
       "      <th>1</th>\n",
       "      <td>2</td>\n",
       "      <td>1</td>\n",
       "      <td>0</td>\n",
       "      <td>2</td>\n",
       "      <td>1</td>\n",
       "    </tr>\n",
       "    <tr>\n",
       "      <th>3</th>\n",
       "      <td>4</td>\n",
       "      <td>0</td>\n",
       "      <td>0</td>\n",
       "      <td>0</td>\n",
       "      <td>1</td>\n",
       "    </tr>\n",
       "  </tbody>\n",
       "</table>\n",
       "</div>"
      ],
      "text/plain": [
       "   customer_id  R  F  M  Clusters\n",
       "0            1  9  9  8         5\n",
       "4            5  7  4  4         4\n",
       "2            3  1  7  8         2\n",
       "1            2  1  0  2         1\n",
       "3            4  0  0  0         1"
      ]
     },
     "execution_count": 21,
     "metadata": {},
     "output_type": "execute_result"
    }
   ],
   "source": [
    "RFM_d.head().sort_values(by='Clusters',ascending=False)"
   ]
  },
  {
   "cell_type": "code",
   "execution_count": 22,
   "id": "0946a882",
   "metadata": {},
   "outputs": [
    {
     "data": {
      "text/plain": [
       "4    792\n",
       "1    767\n",
       "5    717\n",
       "3    672\n",
       "2    545\n",
       "Name: Clusters, dtype: int64"
      ]
     },
     "execution_count": 22,
     "metadata": {},
     "output_type": "execute_result"
    }
   ],
   "source": [
    "RFM_d.Clusters.value_counts()"
   ]
  },
  {
   "cell_type": "code",
   "execution_count": 28,
   "id": "b6e888bb",
   "metadata": {},
   "outputs": [
    {
     "data": {
      "text/html": [
       "<div>\n",
       "<style scoped>\n",
       "    .dataframe tbody tr th:only-of-type {\n",
       "        vertical-align: middle;\n",
       "    }\n",
       "\n",
       "    .dataframe tbody tr th {\n",
       "        vertical-align: top;\n",
       "    }\n",
       "\n",
       "    .dataframe thead th {\n",
       "        text-align: right;\n",
       "    }\n",
       "</style>\n",
       "<table border=\"1\" class=\"dataframe\">\n",
       "  <thead>\n",
       "    <tr style=\"text-align: right;\">\n",
       "      <th></th>\n",
       "      <th>customer_id</th>\n",
       "      <th>R</th>\n",
       "      <th>F</th>\n",
       "      <th>M</th>\n",
       "      <th>Clusters</th>\n",
       "    </tr>\n",
       "  </thead>\n",
       "  <tbody>\n",
       "    <tr>\n",
       "      <th>0</th>\n",
       "      <td>1</td>\n",
       "      <td>9</td>\n",
       "      <td>9</td>\n",
       "      <td>8</td>\n",
       "      <td>5</td>\n",
       "    </tr>\n",
       "    <tr>\n",
       "      <th>7</th>\n",
       "      <td>8</td>\n",
       "      <td>7</td>\n",
       "      <td>9</td>\n",
       "      <td>9</td>\n",
       "      <td>5</td>\n",
       "    </tr>\n",
       "    <tr>\n",
       "      <th>12</th>\n",
       "      <td>13</td>\n",
       "      <td>6</td>\n",
       "      <td>6</td>\n",
       "      <td>7</td>\n",
       "      <td>5</td>\n",
       "    </tr>\n",
       "    <tr>\n",
       "      <th>22</th>\n",
       "      <td>23</td>\n",
       "      <td>8</td>\n",
       "      <td>6</td>\n",
       "      <td>7</td>\n",
       "      <td>5</td>\n",
       "    </tr>\n",
       "    <tr>\n",
       "      <th>23</th>\n",
       "      <td>24</td>\n",
       "      <td>7</td>\n",
       "      <td>7</td>\n",
       "      <td>7</td>\n",
       "      <td>5</td>\n",
       "    </tr>\n",
       "    <tr>\n",
       "      <th>...</th>\n",
       "      <td>...</td>\n",
       "      <td>...</td>\n",
       "      <td>...</td>\n",
       "      <td>...</td>\n",
       "      <td>...</td>\n",
       "    </tr>\n",
       "    <tr>\n",
       "      <th>3459</th>\n",
       "      <td>3468</td>\n",
       "      <td>9</td>\n",
       "      <td>6</td>\n",
       "      <td>6</td>\n",
       "      <td>5</td>\n",
       "    </tr>\n",
       "    <tr>\n",
       "      <th>3461</th>\n",
       "      <td>3470</td>\n",
       "      <td>9</td>\n",
       "      <td>7</td>\n",
       "      <td>9</td>\n",
       "      <td>5</td>\n",
       "    </tr>\n",
       "    <tr>\n",
       "      <th>3463</th>\n",
       "      <td>3472</td>\n",
       "      <td>9</td>\n",
       "      <td>4</td>\n",
       "      <td>6</td>\n",
       "      <td>5</td>\n",
       "    </tr>\n",
       "    <tr>\n",
       "      <th>3473</th>\n",
       "      <td>3482</td>\n",
       "      <td>6</td>\n",
       "      <td>7</td>\n",
       "      <td>9</td>\n",
       "      <td>5</td>\n",
       "    </tr>\n",
       "    <tr>\n",
       "      <th>3486</th>\n",
       "      <td>3495</td>\n",
       "      <td>8</td>\n",
       "      <td>6</td>\n",
       "      <td>7</td>\n",
       "      <td>5</td>\n",
       "    </tr>\n",
       "  </tbody>\n",
       "</table>\n",
       "<p>717 rows × 5 columns</p>\n",
       "</div>"
      ],
      "text/plain": [
       "      customer_id  R  F  M  Clusters\n",
       "0               1  9  9  8         5\n",
       "7               8  7  9  9         5\n",
       "12             13  6  6  7         5\n",
       "22             23  8  6  7         5\n",
       "23             24  7  7  7         5\n",
       "...           ... .. .. ..       ...\n",
       "3459         3468  9  6  6         5\n",
       "3461         3470  9  7  9         5\n",
       "3463         3472  9  4  6         5\n",
       "3473         3482  6  7  9         5\n",
       "3486         3495  8  6  7         5\n",
       "\n",
       "[717 rows x 5 columns]"
      ]
     },
     "execution_count": 28,
     "metadata": {},
     "output_type": "execute_result"
    }
   ],
   "source": [
    "RFM_d[RFM_d.Clusters == 5]"
   ]
  },
  {
   "cell_type": "code",
   "execution_count": 31,
   "id": "7816419f",
   "metadata": {},
   "outputs": [],
   "source": [
    "# export the customer segment xlsx\n",
    "RFM_d.to_excel('RFM_Clusters.xlsx')"
   ]
  },
  {
   "cell_type": "code",
   "execution_count": 48,
   "id": "58603b33",
   "metadata": {},
   "outputs": [],
   "source": [
    "# interpreting the results"
   ]
  },
  {
   "cell_type": "code",
   "execution_count": 49,
   "id": "d35dedd9",
   "metadata": {},
   "outputs": [
    {
     "name": "stderr",
     "output_type": "stream",
     "text": [
      "<ipython-input-49-c05c94f41c03>:1: FutureWarning: Indexing with multiple keys (implicitly converted to a tuple of keys) will be deprecated, use a list instead.\n",
      "  RFM_d.groupby('Clusters')[\"R\",\"F\",\"M\"].mean()\n"
     ]
    },
    {
     "data": {
      "text/html": [
       "<div>\n",
       "<style scoped>\n",
       "    .dataframe tbody tr th:only-of-type {\n",
       "        vertical-align: middle;\n",
       "    }\n",
       "\n",
       "    .dataframe tbody tr th {\n",
       "        vertical-align: top;\n",
       "    }\n",
       "\n",
       "    .dataframe thead th {\n",
       "        text-align: right;\n",
       "    }\n",
       "</style>\n",
       "<table border=\"1\" class=\"dataframe\">\n",
       "  <thead>\n",
       "    <tr style=\"text-align: right;\">\n",
       "      <th></th>\n",
       "      <th>R</th>\n",
       "      <th>F</th>\n",
       "      <th>M</th>\n",
       "    </tr>\n",
       "    <tr>\n",
       "      <th>Clusters</th>\n",
       "      <th></th>\n",
       "      <th></th>\n",
       "      <th></th>\n",
       "    </tr>\n",
       "  </thead>\n",
       "  <tbody>\n",
       "    <tr>\n",
       "      <th>1</th>\n",
       "      <td>1.637549</td>\n",
       "      <td>0.512386</td>\n",
       "      <td>1.176010</td>\n",
       "    </tr>\n",
       "    <tr>\n",
       "      <th>2</th>\n",
       "      <td>3.416514</td>\n",
       "      <td>6.829358</td>\n",
       "      <td>7.574312</td>\n",
       "    </tr>\n",
       "    <tr>\n",
       "      <th>3</th>\n",
       "      <td>2.400298</td>\n",
       "      <td>3.540179</td>\n",
       "      <td>4.693452</td>\n",
       "    </tr>\n",
       "    <tr>\n",
       "      <th>4</th>\n",
       "      <td>7.189394</td>\n",
       "      <td>2.108586</td>\n",
       "      <td>2.782828</td>\n",
       "    </tr>\n",
       "    <tr>\n",
       "      <th>5</th>\n",
       "      <td>7.608089</td>\n",
       "      <td>6.772664</td>\n",
       "      <td>7.435146</td>\n",
       "    </tr>\n",
       "  </tbody>\n",
       "</table>\n",
       "</div>"
      ],
      "text/plain": [
       "                 R         F         M\n",
       "Clusters                              \n",
       "1         1.637549  0.512386  1.176010\n",
       "2         3.416514  6.829358  7.574312\n",
       "3         2.400298  3.540179  4.693452\n",
       "4         7.189394  2.108586  2.782828\n",
       "5         7.608089  6.772664  7.435146"
      ]
     },
     "execution_count": 49,
     "metadata": {},
     "output_type": "execute_result"
    }
   ],
   "source": [
    "RFM_d.groupby('Clusters')[\"R\",\"F\",\"M\"].mean()"
   ]
  },
  {
   "cell_type": "markdown",
   "id": "7e996150",
   "metadata": {},
   "source": [
    "- The above results indicate that the customers in Cluster 5 are high value customers.\n",
    "- They score high in all the three factors.\n",
    "- The customers in cluster 2 need to be targeted with reactivation campaigns as their recency is low but the number of orders and amount spent is high.\n",
    "- The customers in cluster 4 seem relatively new customers and need more incentives and product-based offers so that they buy more."
   ]
  },
  {
   "cell_type": "code",
   "execution_count": null,
   "id": "d91cdaaf",
   "metadata": {},
   "outputs": [],
   "source": []
  }
 ],
 "metadata": {
  "kernelspec": {
   "display_name": "Python 3",
   "language": "python",
   "name": "python3"
  },
  "language_info": {
   "codemirror_mode": {
    "name": "ipython",
    "version": 3
   },
   "file_extension": ".py",
   "mimetype": "text/x-python",
   "name": "python",
   "nbconvert_exporter": "python",
   "pygments_lexer": "ipython3",
   "version": "3.8.8"
  }
 },
 "nbformat": 4,
 "nbformat_minor": 5
}
